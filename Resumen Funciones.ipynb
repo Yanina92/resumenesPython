{
 "cells": [
  {
   "cell_type": "markdown",
   "metadata": {},
   "source": [
    "REPASO PRIMER PARCIAL: Funciones básicas de Python"
   ]
  },
  {
   "cell_type": "markdown",
   "metadata": {},
   "source": [
    "Función print: Saca en pantalla lo que se le indique.\n"
   ]
  },
  {
   "cell_type": "code",
   "execution_count": 1,
   "metadata": {},
   "outputs": [
    {
     "name": "stdout",
     "output_type": "stream",
     "text": [
      "Buenos dias\n"
     ]
    }
   ],
   "source": [
    "print(\"Buenos dias\")"
   ]
  },
  {
   "cell_type": "markdown",
   "metadata": {},
   "source": [
    "Función input: muestra en pantalla al usuario el valor que tiene que ingresar. En analogía con lenguaje C o M sería un printf y un scanf juntos."
   ]
  },
  {
   "cell_type": "code",
   "execution_count": 5,
   "metadata": {},
   "outputs": [
    {
     "name": "stdout",
     "output_type": "stream",
     "text": [
      "ingrese el valor que desea que aparezca en pantalla\n",
      "34\n",
      "Usted ingresó 34.Ahora ingrese un número mayor\n",
      "67\n",
      "Usted ingresó\n",
      " 67\n"
     ]
    }
   ],
   "source": [
    "a=input(\"ingrese el valor que desea que aparezca en pantalla\\n\")\n",
    "b=input(\"Usted ingresó {0}.Ahora ingrese un número mayor\\n\".format(a)) #Forma de mostrar un valor ingresado anteriormente de input\n",
    "print(\"Usted ingresó\\n\",b) #Forma de mostrar un valor de print."
   ]
  },
  {
   "cell_type": "markdown",
   "metadata": {},
   "source": [
    "Formato float o int: Indica en que formato tomará el programa al valor que se esta trabajando."
   ]
  },
  {
   "cell_type": "code",
   "execution_count": 8,
   "metadata": {},
   "outputs": [
    {
     "name": "stdout",
     "output_type": "stream",
     "text": [
      "ingrese el valor que desea que aparezca en pantalla\n",
      "1\n",
      "Valor en formato entero:\n",
      " 1\n",
      "Valor en formato flotante (con coma):\n",
      " 1.0\n"
     ]
    }
   ],
   "source": [
    "a=int(input(\"ingrese el valor que desea que aparezca en pantalla\\n\"))\n",
    "print(\"Valor en formato entero:\\n\",a)\n",
    "b=float(a)\n",
    "print(\"Valor en formato flotante (con coma):\\n\",b)"
   ]
  },
  {
   "cell_type": "markdown",
   "metadata": {},
   "source": [
    "Definir una función: Se crea una función que al ser llamada realice la operación que se le iindicó con anterioridad."
   ]
  },
  {
   "cell_type": "code",
   "execution_count": 10,
   "metadata": {},
   "outputs": [
    {
     "name": "stdout",
     "output_type": "stream",
     "text": [
      "ingrese primer valor para sumar\n",
      "3.5\n",
      "ingrese segundo valor para sumar\n",
      "8.6\n",
      "El resultado es\n",
      " 12.1\n"
     ]
    }
   ],
   "source": [
    "def suma():\n",
    "    a=float(input(\"ingrese primer valor para sumar\\n\"))\n",
    "    b=float(input(\"ingrese segundo valor para sumar\\n\"))\n",
    "    c=a+b\n",
    "    print(\"El resultado es\\n\",c)\n",
    "\n",
    "suma()    #Llamo a la función."
   ]
  },
  {
   "cell_type": "markdown",
   "metadata": {},
   "source": [
    "Bucles"
   ]
  },
  {
   "cell_type": "markdown",
   "metadata": {},
   "source": [
    "Función For: repite una operación durante un intervalo predeterminado."
   ]
  },
  {
   "cell_type": "code",
   "execution_count": 21,
   "metadata": {},
   "outputs": [
    {
     "name": "stdout",
     "output_type": "stream",
     "text": [
      "2\n",
      "5\n",
      "10\n",
      "17\n",
      "26\n"
     ]
    }
   ],
   "source": [
    "def salto(a):\n",
    "    for i in range (1,11,2): #El primer valor es el primer valor que tomará la variable \"i\", el segundo valor es el final (en realidad es el final+1) y el tercer valor es de a cuanto va a ir saltando \"i\" en el intervalo determinado.\n",
    "        a=a+i\n",
    "        print(a)\n",
    "        \n",
    "salto(1) #Llamo a la función salto y le asigno un valor a la variable \"a\".        "
   ]
  },
  {
   "cell_type": "markdown",
   "metadata": {},
   "source": [
    "Función While: Repite  una orden un determinado número de veces mientras una condición sea correcta."
   ]
  },
  {
   "cell_type": "code",
   "execution_count": 24,
   "metadata": {},
   "outputs": [
    {
     "name": "stdout",
     "output_type": "stream",
     "text": [
      "1 es menor que 4\n",
      "2 es menor que 4\n",
      "3 es menor que 4\n",
      "4 es igual a 4\n"
     ]
    }
   ],
   "source": [
    "a=1\n",
    "b=4\n",
    "\n",
    "while(a<b):\n",
    "    print(a,\"es menor que\",b)\n",
    "    a=a+1\n",
    "    \n",
    "print(a,\"es igual a\",b)    "
   ]
  },
  {
   "cell_type": "markdown",
   "metadata": {},
   "source": [
    "Condiciones importantes: \n",
    "                          (== igual)  (!= distinto) (= asignación)"
   ]
  },
  {
   "cell_type": "markdown",
   "metadata": {},
   "source": [
    "Función If: Realiza una opción si se cumple una condición."
   ]
  },
  {
   "cell_type": "code",
   "execution_count": 32,
   "metadata": {},
   "outputs": [
    {
     "name": "stdout",
     "output_type": "stream",
     "text": [
      "ingrese un valor para relacionar\n",
      "4\n",
      "ingrese un valor diferente\n",
      "3\n",
      "\n",
      "\n",
      "Conclusión\n",
      "\n",
      "El primer valor es mayor que el segundo\n"
     ]
    }
   ],
   "source": [
    "a=input(\"ingrese un valor para relacionar\\n\")\n",
    "b=input(\"ingrese un valor diferente\\n\")\n",
    "\n",
    "if (a<b):\n",
    "    print(\"\\n\")\n",
    "    print(\"Conclusión\\n\")\n",
    "    print(\"El primer valor es menor que el segundo\")\n",
    "elif (a>b):\n",
    "    print(\"\\n\")\n",
    "    print(\"Conclusión\\n\")\n",
    "    print(\"El primer valor es mayor que el segundo\")\n",
    "else:\n",
    "    print(\"\\n\")\n",
    "    print(\"Conclusión\\n\")\n",
    "    print(\"Ambos valores son iguales\")"
   ]
  },
  {
   "cell_type": "markdown",
   "metadata": {},
   "source": [
    "Función break: Se utiliza cuando se quiere evitar que el programa siga una determinada sentencia y vaya directamente al final de la misma."
   ]
  },
  {
   "cell_type": "code",
   "execution_count": 39,
   "metadata": {},
   "outputs": [
    {
     "name": "stdout",
     "output_type": "stream",
     "text": [
      "Valor actual de la variable: 9\n",
      "Valor actual de la variable: 8\n",
      "Valor actual de la variable: 7\n",
      "Valor actual de la variable: 6\n"
     ]
    }
   ],
   "source": [
    "var=10\n",
    "while (var>0):\n",
    "    var=var-1\n",
    "    if (var==5):\n",
    "        break\n",
    "\n",
    "    print(\"Valor actual de la variable:\",var)    \n",
    "    "
   ]
  },
  {
   "cell_type": "markdown",
   "metadata": {},
   "source": [
    "El conteo regresivo se paró en 5."
   ]
  },
  {
   "cell_type": "markdown",
   "metadata": {},
   "source": [
    "Formatos en los cuales aparece la información:"
   ]
  },
  {
   "cell_type": "markdown",
   "metadata": {},
   "source": [
    "Listas"
   ]
  },
  {
   "cell_type": "markdown",
   "metadata": {},
   "source": [
    "Función .append(): Agrega valores a una lista creada."
   ]
  },
  {
   "cell_type": "code",
   "execution_count": 1,
   "metadata": {},
   "outputs": [
    {
     "name": "stdout",
     "output_type": "stream",
     "text": [
      "Nombre: Yanina\n",
      "Apellido: Gonzalez\n",
      "Bienvenido Yanina Gonzalez!\n"
     ]
    },
    {
     "data": {
      "text/plain": [
       "['Yanina', 'Gonzalez']"
      ]
     },
     "execution_count": 1,
     "metadata": {},
     "output_type": "execute_result"
    }
   ],
   "source": [
    "def saludar():\n",
    "    N=[] #Creación de una lista (simepre va con [] y se puede modificar. Si es con () es una tupla y no se modifica )\n",
    "    N.append(input(\"Nombre: \")) #Input es un printf y un scanf a la vez\n",
    "    N.append(input(\"Apellido: \")) #Append es para añadir valores al final de la matriz\n",
    "    print(\"Bienvenido {0} {1}!\".format(N[0],N[1]))\n",
    "    return N #Muestra la lista N\n",
    "    \n",
    "saludar()"
   ]
  },
  {
   "cell_type": "markdown",
   "metadata": {},
   "source": [
    "Diccionarios"
   ]
  },
  {
   "cell_type": "markdown",
   "metadata": {},
   "source": [
    "Creación de diccionarios\n",
    "Crear un diccionario que se llame precios. Agregar los siguientes elementos al diccionario:\n",
    "\n",
    "```python\n",
    "    'banana': 30\n",
    "    'manzana': 30\n",
    "    'naranja': 20\n",
    "    'pera': 30\n",
    "```\n",
    "\n",
    "Crear un diccionario que se llame stock, Agregarlos siguientes elementos al diccionario:\n",
    "\n",
    "```python\n",
    "    'banana': 6,\n",
    "    'manzana': 0,\n",
    "    'naranja': 32,\n",
    "    'pera': 15\n",
    "```   \n",
    "\n",
    "1. Utilizando ciclos sobre los diccionarios correspondientes:\n",
    " a. Reducir todos los precios un 10%.\n",
    "\n",
    " b. Imprimir cada el nombre el precio y el stock de cada fruta. Por ejemplo, se espera que para la manzana se  imprima:\n",
    "\n",
    "   ```python\n",
    "    manzana\n",
    "    precio: 27.0\n",
    "    stock: 0\n",
    "       \n",
    "   ```\n",
    "\n",
    " c. Calcular cuánto dinero obtendría si logra vender toda la fruta al precio dado."
   ]
  },
  {
   "cell_type": "code",
   "execution_count": 2,
   "metadata": {},
   "outputs": [
    {
     "name": "stdout",
     "output_type": "stream",
     "text": [
      "Ejercicio 1A.\n",
      "\n",
      "\n",
      "Banana\n",
      "Sin descuento\n",
      "30 pesos\n",
      "Con descuento\n",
      "27.0 pesos\n",
      "\n",
      "\n",
      "Manzana\n",
      "Sin descuento\n",
      "30 pesos\n",
      "Con descuento\n",
      "27.0 pesos\n",
      "\n",
      "\n",
      "Naranja\n",
      "Sin descuento\n",
      "20 pesos\n",
      "Con descuento\n",
      "18.0 pesos\n",
      "\n",
      "\n",
      "Pera\n",
      "Sin descuento\n",
      "30 pesos\n",
      "Con descuento\n",
      "27.0 pesos\n",
      "\n",
      "\n",
      "Ejercicio 1B.\n",
      "\n",
      "\n",
      "Banana \n",
      " Precio: 27.0 \n",
      " Stock: 6\n",
      "\n",
      "\n",
      "Manzana \n",
      " Precio: 27.0 \n",
      " Stock: 0\n",
      "\n",
      "\n",
      "Naranja \n",
      " Precio: 18.0 \n",
      " Stock: 32\n",
      "\n",
      "\n",
      "Pera \n",
      " Precio: 27.0 \n",
      " Stock: 15\n",
      "\n",
      "\n",
      "Ejercicio 1C.\n",
      "\n",
      "\n",
      "Total ventas: 1143.0 pesos\n"
     ]
    }
   ],
   "source": [
    "precios={\"Banana\":30, \"Manzana\":30, \"Naranja\":20,\"Pera\":30} #Creación de los diccionarios\n",
    "\n",
    "stock={\"Banana\":6, \"Manzana\":0, \"Naranja\":32,\"Pera\":15}\n",
    "\n",
    "# Ejercicio 1A.\n",
    "print(\"Ejercicio 1A.\")\n",
    "print(\"\\n\")\n",
    "for key in precios.keys(): #Devuelve una lista de todas las palabras clave del diccionario\n",
    "    print(key)\n",
    "    print(\"Sin descuento\")\n",
    "    print(precios[key],\"pesos\")\n",
    "    precios[key]= precios[key]*0.9 # Ejemplo: cuando la palabra clave es banana, a su precio le asigno el valor de el mismo multiplicado por 0,9\n",
    "    print(\"Con descuento\")\n",
    "    print(precios[key],\"pesos\")\n",
    "    print(\"\\n\")\n",
    "\n",
    "\n",
    "# Ejercicio 1B.\n",
    "print(\"Ejercicio 1B.\")\n",
    "print(\"\\n\")\n",
    "for key in precios.keys(): #Es una funcion que permite moverse en el diccionario\n",
    "    print(key,\"\\n\",\"Precio:\", precios[key],\"\\n\",\"Stock:\",stock[key])\n",
    "    print(\"\\n\")\n",
    "    \n",
    "#Ejercicio 1C.\n",
    "print(\"Ejercicio 1C.\")\n",
    "print(\"\\n\")\n",
    "dinero_total=0\n",
    "for key in precios.keys():\n",
    "    dinero = precios[key]*stock[key]\n",
    "  # print(dinero)\n",
    "    dinero_total += dinero\n",
    "print(\"Total ventas:\",dinero_total,\"pesos\")"
   ]
  },
  {
   "cell_type": "markdown",
   "metadata": {},
   "source": [
    "Conjuntos"
   ]
  },
  {
   "cell_type": "markdown",
   "metadata": {},
   "source": [
    "1. Basándose en el diccionario del ejercicio anterior crée un conjunto (*set()*) que contenga los elementos que se encuentran en el *cajon*, la *mochila*, la *bolsa*  y el *bolsillo*\n",
    "2. Agregue  al conjunto el elemento *'cortaplumas'*.\n",
    "3. Elimine  del conjunto la *moneda*.\n",
    "4. Calcule la cantidad de elementos que hay en el conjunto.\n"
   ]
  },
  {
   "cell_type": "code",
   "execution_count": 5,
   "metadata": {},
   "outputs": [
    {
     "name": "stdout",
     "output_type": "stream",
     "text": [
      "Inciso 1\n",
      "\n",
      "{'comida', 'plata', 'pelusa', 'piedra', 'fósforo usado', 'libro', 'moneda', 'cordel'}\n",
      "\n",
      "\n",
      "Inciso 2\n",
      "\n",
      "{'comida', 'cortapluma', 'plata', 'pelusa', 'piedra', 'fósforo usado', 'libro', 'moneda', 'cordel'}\n",
      "\n",
      "\n",
      "Inciso 3\n",
      "\n",
      "{'comida', 'cortapluma', 'plata', 'pelusa', 'piedra', 'fósforo usado', 'libro', 'cordel'}\n",
      "\n",
      "\n",
      "Inciso 4\n",
      "\n",
      "Hay 8 elementos\n"
     ]
    }
   ],
   "source": [
    "inventario = {'cajon': ['libro', 'cordel', 'pelusa'],\n",
    "              'mochila': ['libro', 'moneda', 'plata'], \n",
    "              'bolsa': ['cordel', 'piedra', 'comida'],\n",
    "              'bolsillo': ('pelusa', 'fósforo usado', 'moneda')}\n",
    "print(\"Inciso 1\\n\")\n",
    "conjunto = set() #un conjunto se compone de elementos no repetidos\n",
    "for key in inventario.keys(): #También se utiliza en conjuntos\n",
    "    for el in inventario[key]:\n",
    "         conjunto.add(el)# Añade los elementos al conjunto creado\n",
    "print(conjunto)\n",
    "print(\"\\n\")\n",
    "\n",
    "print(\"Inciso 2\\n\")\n",
    "conjunto.add(\"cortapluma\") #Agrego un elemento al conjunto\n",
    "print(conjunto)\n",
    "print(\"\\n\")\n",
    "\n",
    "print(\"Inciso 3\\n\")\n",
    "conjunto.remove(\"moneda\") #Elimino un elemento del conjunto\n",
    "print(conjunto)\n",
    "print(\"\\n\")\n",
    "\n",
    "print(\"Inciso 4\\n\")\n",
    "cantidad = len(conjunto) #Calcula la cantidad de elementos que hay en el conjunto\n",
    "print(\"Hay\",cantidad,\"elementos\")"
   ]
  }
 ],
 "metadata": {
  "kernelspec": {
   "display_name": "Python 3",
   "language": "python",
   "name": "python3"
  },
  "language_info": {
   "codemirror_mode": {
    "name": "ipython",
    "version": 3
   },
   "file_extension": ".py",
   "mimetype": "text/x-python",
   "name": "python",
   "nbconvert_exporter": "python",
   "pygments_lexer": "ipython3",
   "version": "3.6.4"
  }
 },
 "nbformat": 4,
 "nbformat_minor": 2
}
